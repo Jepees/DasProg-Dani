{
 "cells": [
  {
   "cell_type": "markdown",
   "metadata": {},
   "source": [
    "# Soal 1"
   ]
  },
  {
   "cell_type": "code",
   "execution_count": 1,
   "metadata": {},
   "outputs": [],
   "source": [
    "data_transaksi = [\n",
    "    {\"id\": 1, \"user\": \"Alice\", \"jumlah\": 100000, \"metode\": \"Credit Card\", \"kategori\": \"Belanja\"},\n",
    "    {\"id\": 2, \"user\": \"Bob\", \"jumlah\": 200000, \"metode\": \"Debit Card\", \"kategori\": \"Hiburan\"},\n",
    "    {\"id\": 3, \"user\": \"Alice\", \"jumlah\": 150000, \"metode\": \"Cash\", \"kategori\": \"Belanja\"},\n",
    "    {\"id\": 4, \"user\": \"Charlie\", \"jumlah\": 300000, \"metode\": \"Credit Card\", \"kategori\": \"Perjalanan\"},\n",
    "    {\"id\": 5, \"user\": \"Bob\", \"jumlah\": 250000, \"metode\": \"Credit Card\", \"kategori\": \"Hiburan\"}, ]\n"
   ]
  },
  {
   "cell_type": "markdown",
   "metadata": {},
   "source": [
    "## a. (Bobot 10 Poin) \n",
    "Buatlah kode Python untuk \\\n",
    "**menemukan pengguna dengan total nilai transaksi tertinggi!**\n",
    "\n",
    "Output yang diharapkan:\\\n",
    "Pengguna dengan total nilai transaksi tertinggi adalah: xxx dengan jumlah xxx."
   ]
  },
  {
   "cell_type": "code",
   "execution_count": 2,
   "metadata": {},
   "outputs": [
    {
     "name": "stdout",
     "output_type": "stream",
     "text": [
      "Pengguna dengan total nilai transaksi tertinggi adalah: Bob dengan jumlah 450000.\n"
     ]
    }
   ],
   "source": [
    "pengguna = {}\n",
    "for data in data_transaksi:\n",
    "    #print(data['user'])\n",
    "    if data['user'] not in pengguna:\n",
    "        pengguna[f'{data[\"user\"]}'] = data['jumlah']\n",
    "    else:\n",
    "        pengguna[f'{data[\"user\"]}'] += data['jumlah']\n",
    "\n",
    "tertinggi = ''\n",
    "for user in pengguna:\n",
    "    if not tertinggi or pengguna[user] > pengguna[tertinggi]:\n",
    "        tertinggi = user\n",
    "\n",
    "print(f'Pengguna dengan total nilai transaksi tertinggi adalah: {tertinggi} dengan jumlah {pengguna[tertinggi]}.')"
   ]
  },
  {
   "cell_type": "markdown",
   "metadata": {},
   "source": [
    "## b. (Bobot 10 Poin) \n",
    "Buat code Python untuk\\\n",
    "**menghitung total transaksi per Kategori**!\n",
    "\n",
    "Output yang diharapkan:\\\n",
    "Total transaksi kategori xxx adalah xxx\\\n",
    "Total transaksi kategori xxx adalah xxx\\\n",
    "Total transaksi kategori xxx adalah xxx"
   ]
  },
  {
   "cell_type": "code",
   "execution_count": 3,
   "metadata": {},
   "outputs": [
    {
     "name": "stdout",
     "output_type": "stream",
     "text": [
      "Total transaksi kategori Belanja adalah 2\n",
      "Total transaksi kategori Hiburan adalah 2\n",
      "Total transaksi kategori Perjalanan adalah 1\n"
     ]
    }
   ],
   "source": [
    "categories = {}\n",
    "for data in data_transaksi:\n",
    "    #print(data['kategori'])\n",
    "    if data['kategori'] not in categories:\n",
    "        categories[f'{data[\"kategori\"]}'] = 0\n",
    "    if data['kategori'] in categories:\n",
    "        categories[f'{data[\"kategori\"]}'] += 1\n",
    "\n",
    "for category in categories:\n",
    "    print(f'Total transaksi kategori {category} adalah {categories[category]}')"
   ]
  },
  {
   "cell_type": "markdown",
   "metadata": {},
   "source": [
    "# Soal 2"
   ]
  },
  {
   "cell_type": "code",
   "execution_count": 4,
   "metadata": {},
   "outputs": [],
   "source": [
    "data_penjualan = [\n",
    "    {\n",
    "        \"id_transaksi\": 1,\n",
    "        \"tanggal\": \"2024-01-01\",\n",
    "        \"detail\": [\n",
    "            {\n",
    "                \"produk\": \"A\",\n",
    "                \"kuantitas\": 10,\n",
    "                \"harga_satuan\": 5000,\n",
    "                \"promosi\": [\n",
    "                    {\"jenis\": \"Diskon\", \"persentase\": 10},\n",
    "                    {\"jenis\": \"Bonus\", \"item_bonus\": \"Pulpen\"}\n",
    "                ]\n",
    "            },\n",
    "            {\n",
    "                \"produk\": \"B\",\n",
    "                \"kuantitas\": 5,\n",
    "                \"harga_satuan\": 7000,\n",
    "                \"promosi\": [\n",
    "                    {\"jenis\": \"Diskon\", \"persentase\": 5}\n",
    "                ]\n",
    "            }\n",
    "        ],\n",
    "        \"pelanggan\": {\"nama\": \"Andi\", \"membership\": \"Gold\"}\n",
    "    },\n",
    "    {\n",
    "        \"id_transaksi\": 2,\n",
    "        \"tanggal\": \"2024-01-01\",\n",
    "        \"detail\": [\n",
    "            {\n",
    "                \"produk\": \"A\",\n",
    "                \"kuantitas\": 20,\n",
    "                \"harga_satuan\": 5000,\n",
    "                \"promosi\": [\n",
    "                    {\"jenis\": \"Diskon\", \"persentase\": 5}\n",
    "                ]\n",
    "            },\n",
    "            {\n",
    "                \"produk\": \"C\",\n",
    "                \"kuantitas\": 2,\n",
    "                \"harga_satuan\": 10000,\n",
    "                \"promosi\": []\n",
    "            }\n",
    "        ],\n",
    "        \"pelanggan\": {\"nama\": \"Budi\", \"membership\": \"Silver\"}\n",
    "    },\n",
    "    {\n",
    "        \"id_transaksi\": 3,\n",
    "        \"tanggal\": \"2024-01-02\",\n",
    "        \"detail\": [\n",
    "            {\n",
    "                \"produk\": \"B\",\n",
    "                \"kuantitas\": 8,\n",
    "                \"harga_satuan\": 7000,\n",
    "                \"promosi\": [\n",
    "                    {\"jenis\": \"Diskon\", \"persentase\": 15},\n",
    "                    {\"jenis\": \"Gratis Ongkir\"}\n",
    "                ]\n",
    "            },\n",
    "            {\n",
    "                \"produk\": \"C\",\n",
    "                \"kuantitas\": 1,\n",
    "                \"harga_satuan\": 10000,\n",
    "                \"promosi\": [\n",
    "                    {\"jenis\": \"Bonus\", \"item_bonus\": \"Tas\"}\n",
    "                ]\n",
    "            }\n",
    "        ],\n",
    "        \"pelanggan\": {\"nama\": \"Citra\", \"membership\": \"Gold\"}\n",
    "    }\n",
    "]\n"
   ]
  },
  {
   "cell_type": "markdown",
   "metadata": {},
   "source": [
    "## a. (Bobot 30 Poin) \n",
    "Buat kode Python untuk \\\n",
    "**menghitung Total Pendapatan untuk Setiap Pelanggan\n",
    "berdasarkan transaksi mereka (termasuk diskon)! Jika tidak ada diskon, hitung dengan harga\n",
    "normal.**\n",
    "\n",
    "Output yang diharapkan:\\\n",
    "Pendapatan dari pelanggan xxx adalah sebesar xxx\\\n",
    "Pendapatan dari pelanggan xxx adalah sebesar xxx\\\n",
    "Pendapatan dari pelanggan xxx adalah sebesar xxx"
   ]
  },
  {
   "cell_type": "code",
   "execution_count": 5,
   "metadata": {},
   "outputs": [
    {
     "name": "stdout",
     "output_type": "stream",
     "text": [
      "Pendapatan dari pelanggan Andi adalah sebesar 78250.0\n",
      "Pendapatan dari pelanggan Budi adalah sebesar 115000.0\n",
      "Pendapatan dari pelanggan Citra adalah sebesar 57600.0\n"
     ]
    }
   ],
   "source": [
    "users = {}\n",
    "for data in data_penjualan:\n",
    "    #print(data['pelanggan']['nama'])\n",
    "    if data['pelanggan']['nama'] not in users:\n",
    "        users[f'{data[\"pelanggan\"][\"nama\"]}'] = 0\n",
    "    masuk_total = 0\n",
    "    for detil in data[\"detail\"]:\n",
    "        masuk = detil[\"kuantitas\"] * detil[\"harga_satuan\"]\n",
    "        if detil['promosi']:\n",
    "            for promo in detil['promosi']:\n",
    "                if promo['jenis'] == \"Diskon\":\n",
    "                    #print(promo['persentase'])\n",
    "                    masuk += - ( masuk * (int(promo['persentase']) / 100 ) )\n",
    "        masuk_total += masuk\n",
    "    users[f\"{data['pelanggan']['nama']}\"] += masuk_total\n",
    "\n",
    "for user in users:\n",
    "    print(f\"Pendapatan dari pelanggan {user} adalah sebesar {users[user]}\")"
   ]
  },
  {
   "cell_type": "markdown",
   "metadata": {},
   "source": [
    "## b. (Bobot 30 Poin) \n",
    "Buat code python yang dapat\\\n",
    "**menemukan Pelanggan dengan Pembelanjaan Tertinggi Setelah Diskon!**\\\n",
    "Untuk setiap pelanggan, hitung total pembelanjaan mereka, termasuk diskon jika mereka\n",
    "mendapatkan diskon di promosi. Temukan pelanggan dengan pembelanjaan tertinggi setelah\n",
    "mempertimbangkan diskon, dan tampilkan bonus yang diperoleh jika ada.\n",
    "\n",
    "**Output yang diharapkan:**\\\n",
    "Pelanggan Tertinggi adalah xxx dengan Total Pembelanjaan adalah xxx Tidak ada bonus yang diperoleh.\n",
    "\n",
    "**Jika ada bonus maka menjadi**:\\\n",
    "Pelanggan Tertinggi adalah xxx dengan Total Pembelanjaan adalah xxx Bonus yang diperoleh adalah xxx."
   ]
  },
  {
   "cell_type": "code",
   "execution_count": 6,
   "metadata": {},
   "outputs": [
    {
     "name": "stdout",
     "output_type": "stream",
     "text": [
      "Pelanggan Tertinggi adalah Budi dengan Total Pembelanjaan adalah 115000.0 Tidak ada bonus yang diperoleh.\n"
     ]
    }
   ],
   "source": [
    "users = {}\n",
    "for data in data_penjualan:\n",
    "    #print(data['pelanggan']['nama'])\n",
    "    if data['pelanggan']['nama'] not in users:\n",
    "        users[f'{data[\"pelanggan\"][\"nama\"]}'] = {'total_belanja': 0, 'bonuses': []}\n",
    "    for detil in data[\"detail\"]:\n",
    "        masuk = detil[\"kuantitas\"] * detil[\"harga_satuan\"]\n",
    "        if detil['promosi']:\n",
    "            for promo in detil['promosi']:\n",
    "                if promo['jenis'] == \"Diskon\":\n",
    "                    #print(promo['persentase'])\n",
    "                    masuk += - ( masuk * (int(promo['persentase']) / 100 ) )\n",
    "                if promo['jenis'] == \"Bonus\":\n",
    "                    users[f\"{data['pelanggan']['nama']}\"]['bonuses'].append(promo['item_bonus'])\n",
    "        users[f\"{data['pelanggan']['nama']}\"]['total_belanja'] += masuk\n",
    "\n",
    "tertinggi = ''\n",
    "for user in users:\n",
    "    if not tertinggi or users[user]['total_belanja'] > users[tertinggi]['total_belanja']:\n",
    "        tertinggi = user\n",
    "\n",
    "if users[tertinggi]['bonuses']:\n",
    "    print(f\"Pelanggan Tertinggi adalah {tertinggi} dengan Total Pembelanjaan adalah {users[tertinggi]['total_belanja']} Bonus yang diperoleh adalah {users[tertinggi]['bonuses']}\")\n",
    "if not users[tertinggi]['bonuses']:\n",
    "    print(f\"Pelanggan Tertinggi adalah {tertinggi} dengan Total Pembelanjaan adalah {users[tertinggi]['total_belanja']} Tidak ada bonus yang diperoleh.\")"
   ]
  },
  {
   "cell_type": "markdown",
   "metadata": {},
   "source": [
    "# Soal 3"
   ]
  },
  {
   "cell_type": "code",
   "execution_count": 7,
   "metadata": {},
   "outputs": [],
   "source": [
    "dataBaru = [\n",
    "    {\n",
    "        \"name\": \"border_1\",\n",
    "        \"coordinates\": [\n",
    "            {\"lat\": -3.1, \"lng\": 100.1},\n",
    "            {\"lat\": -5.2, \"lng\": 100.1},\n",
    "            {\"lat\": 4.2, \"lng\": 102.1, \"others\": \"yy\"}\n",
    "        ]\n",
    "    },\n",
    "    {\n",
    "        \"name\": \"border_2\",\n",
    "        \"coordinates\": [\n",
    "            {\"lat\": 3.1, \"lng\": 109.1},\n",
    "            {\"lat\": -3.2, \"lng\": 120.1},\n",
    "            {\"lat\": 3.2, \"lng\": 109.1, \"others\": \"xx\"}\n",
    "        ]\n",
    "    }\n",
    "]\n"
   ]
  },
  {
   "cell_type": "markdown",
   "metadata": {},
   "source": [
    "**Code:**\n",
    "\n",
    "    for border in dataBaru:\n",
    "        memenuhi_kriteria = False\n",
    "\n",
    "        for coord in border['coordinates']:\n",
    "\n",
    "            if \"lat\" in coord.keys() and \"lng\" in coord.keys():\n",
    "                if -5 <= coord['lat'] <= 5 or 100 <= coord['lng'] <= 110:\n",
    "                    print(f\"Area {border['name']} memenuhi kriteria\")\n",
    "                    memenuhi_kriteria = True\n",
    "                    continue\n",
    "        \n",
    "            elif \"lat\" in coord.keys() and -5 <= coord['lat'] <= 5:\n",
    "                print(f\"Area {border['name']} memenuhi kriteria\")\n",
    "                memenuhi_kriteria = True\n",
    "                break\n",
    "\n",
    "            elif \"lng\" in coord.keys() and 100 <= coord['lng'] <= 110:\n",
    "                print(f\"Area {border['name']} memenuhi kriteria\")\n",
    "                memenuhi_kriteria = True\n",
    "                break\n",
    "\n",
    "        if memenuhi_kriteria == False:\n",
    "            print(f\"Area {border['nama']} tidak memenuhi kriteria\") "
   ]
  },
  {
   "cell_type": "markdown",
   "metadata": {},
   "source": [
    "Anda diberikan kode yang bertujuan untuk menampilkan area (border['name'])\\\n",
    "yang memenuhi atau tidak memenuhi kriteria tertentu berdasarkan koordinat lat dan lng di dataBaru.\\\n",
    "\n",
    "Kriteria yang digunakan adalah:\n",
    "- lat harus berada di antara -5 dan 5.\n",
    "- lng harus berada di antara 100 dan 110. Jika \n",
    "- lat dan lng ada bersamaan dalam satu dict, keduanya harus memenuhi kriteria tersebut dengan logika and.\n",
    "- Jika hanya ada salah satu dari lat atau lng, maka pengecekan dilakukan secara individual untuk nilai yang ada.\n",
    "\n",
    "- Hanya lat dan lng yang menjadi penentu apakah suatu area memenuhi kriteria.\n",
    "- Jika ditemukan salah satu dict dalam coordinates di suatu border yang memenuhi syarat, maka program mencetak print(f\"Area {border['name']} memenuhi kriteria\") dan proses untuk area tersebut dihentikan.\n",
    "- Jika tidak ada dict yang memenuhi kriteria setelah semua dict di dalam coordinates diperiksa, program mencetak print(f\"Area\n",
    "{border['name']} tidak memenuhi kriteria\")."
   ]
  },
  {
   "cell_type": "markdown",
   "metadata": {},
   "source": [
    "**Perintah: (Bobot 20 Poin)** \n",
    "\n",
    "Periksa code diatas apakah sudah sesuai dengan output yang di inginkan?\\\n",
    "Jika iya jelaskan proses di dalam code tersebut.\\\n",
    "Jika menurut anda code tersebut memiliki ketidaksesuaian dengan output yang diharapkan maka perbaiki code nya!\\\n",
    "Kemudian, jelaskan code baru yang anda buat!"
   ]
  },
  {
   "cell_type": "code",
   "execution_count": 13,
   "metadata": {},
   "outputs": [
    {
     "name": "stdout",
     "output_type": "stream",
     "text": [
      "Area border_1 memenuhi kriteria\n",
      "Area border_2 memenuhi kriteria\n"
     ]
    }
   ],
   "source": [
    "for border in dataBaru:\n",
    "    memenuhi_kriteria = False\n",
    "\n",
    "    for coord in border['coordinates']:\n",
    "\n",
    "        if \"lat\" in coord.keys() and \"lng\" in coord.keys():\n",
    "            if -5 <= coord['lat'] <= 5 and 100 <= coord['lng'] <= 110:\n",
    "                print(f\"Area {border['name']} memenuhi kriteria\")\n",
    "                memenuhi_kriteria = True\n",
    "                break\n",
    "    \n",
    "        elif \"lat\" in coord.keys() and -5 <= coord['lat'] <= 5:\n",
    "            print(f\"Area {border['name']} memenuhi kriteria\")\n",
    "            memenuhi_kriteria = True\n",
    "            break\n",
    "\n",
    "        elif \"lng\" in coord.keys() and 100 <= coord['lng'] <= 110:\n",
    "            print(f\"Area {border['name']} memenuhi kriteria\")\n",
    "            memenuhi_kriteria = True\n",
    "            break\n",
    "\n",
    "    if memenuhi_kriteria == False:\n",
    "        print(f\"Area {border['nama']} tidak memenuhi kriteria\") "
   ]
  }
 ],
 "metadata": {
  "kernelspec": {
   "display_name": "Python 3",
   "language": "python",
   "name": "python3"
  },
  "language_info": {
   "codemirror_mode": {
    "name": "ipython",
    "version": 3
   },
   "file_extension": ".py",
   "mimetype": "text/x-python",
   "name": "python",
   "nbconvert_exporter": "python",
   "pygments_lexer": "ipython3",
   "version": "3.10.12"
  }
 },
 "nbformat": 4,
 "nbformat_minor": 2
}
